{
  "cells": [
    {
      "cell_type": "markdown",
      "metadata": {
        "id": "yemUs6FaGV_n"
      },
      "source": [
        "# Behind the pipeline (PyTorch)"
      ]
    },
    {
      "cell_type": "markdown",
      "metadata": {},
      "source": [
        "### This notebook is my simplification of the Tokenizers demo, on how Tokenizers work found in Hugging Face Hub NLP Course, https://huggingface.co/learn/nlp-course/chapter2/2?fw=pt"
      ]
    },
    {
      "cell_type": "markdown",
      "metadata": {
        "id": "2JnU0BqhGV_q"
      },
      "source": [
        "Install the Transformers, Datasets, and Evaluate libraries to run this notebook."
      ]
    },
    {
      "cell_type": "code",
      "execution_count": 1,
      "metadata": {
        "colab": {
          "base_uri": "https://localhost:8080/"
        },
        "id": "gQSDcDurGV_s",
        "outputId": "7176e0dd-2fd4-4c0b-b9bd-2d8bcc3ba04a"
      },
      "outputs": [
        {
          "name": "stdout",
          "output_type": "stream",
          "text": [
            "Defaulting to user installation because normal site-packages is not writeable\n",
            "Requirement already satisfied: datasets in /home/san/.local/lib/python3.10/site-packages (2.13.1)\n",
            "Requirement already satisfied: evaluate in /home/san/.local/lib/python3.10/site-packages (0.4.0)\n",
            "Requirement already satisfied: transformers[sentencepiece] in /home/san/.local/lib/python3.10/site-packages (4.31.0)\n",
            "Requirement already satisfied: xxhash in /home/san/.local/lib/python3.10/site-packages (from datasets) (3.2.0)\n",
            "Requirement already satisfied: aiohttp in /home/san/.local/lib/python3.10/site-packages (from datasets) (3.8.5)\n",
            "Requirement already satisfied: huggingface-hub<1.0.0,>=0.11.0 in /home/san/.local/lib/python3.10/site-packages (from datasets) (0.16.4)\n",
            "Requirement already satisfied: packaging in /usr/lib/python3/dist-packages (from datasets) (21.3)\n",
            "Requirement already satisfied: pyarrow>=8.0.0 in /home/san/.local/lib/python3.10/site-packages (from datasets) (12.0.1)\n",
            "Requirement already satisfied: fsspec[http]>=2021.11.1 in /home/san/.local/lib/python3.10/site-packages (from datasets) (2023.6.0)\n",
            "Requirement already satisfied: pyyaml>=5.1 in /usr/lib/python3/dist-packages (from datasets) (5.4.1)\n",
            "Requirement already satisfied: tqdm>=4.62.1 in /home/san/.local/lib/python3.10/site-packages (from datasets) (4.65.0)\n",
            "Requirement already satisfied: requests>=2.19.0 in /home/san/.local/lib/python3.10/site-packages (from datasets) (2.31.0)\n",
            "Requirement already satisfied: pandas in /home/san/.local/lib/python3.10/site-packages (from datasets) (2.0.3)\n",
            "Requirement already satisfied: dill<0.3.7,>=0.3.0 in /home/san/.local/lib/python3.10/site-packages (from datasets) (0.3.6)\n",
            "Requirement already satisfied: multiprocess in /home/san/.local/lib/python3.10/site-packages (from datasets) (0.70.14)\n",
            "Requirement already satisfied: numpy>=1.17 in /home/san/.local/lib/python3.10/site-packages (from datasets) (1.24.3)\n",
            "Requirement already satisfied: responses<0.19 in /home/san/.local/lib/python3.10/site-packages (from evaluate) (0.18.0)\n",
            "Requirement already satisfied: tokenizers!=0.11.3,<0.14,>=0.11.1 in /home/san/.local/lib/python3.10/site-packages (from transformers[sentencepiece]) (0.13.3)\n",
            "Requirement already satisfied: filelock in /usr/lib/python3/dist-packages (from transformers[sentencepiece]) (3.6.0)\n",
            "Requirement already satisfied: safetensors>=0.3.1 in /home/san/.local/lib/python3.10/site-packages (from transformers[sentencepiece]) (0.3.1)\n",
            "Requirement already satisfied: regex!=2019.12.17 in /home/san/.local/lib/python3.10/site-packages (from transformers[sentencepiece]) (2023.6.3)\n",
            "Requirement already satisfied: protobuf in /home/san/.local/lib/python3.10/site-packages (from transformers[sentencepiece]) (4.23.4)\n",
            "Requirement already satisfied: sentencepiece!=0.1.92,>=0.1.91 in /home/san/.local/lib/python3.10/site-packages (from transformers[sentencepiece]) (0.1.99)\n",
            "Requirement already satisfied: charset-normalizer<4.0,>=2.0 in /home/san/.local/lib/python3.10/site-packages (from aiohttp->datasets) (3.2.0)\n",
            "Requirement already satisfied: async-timeout<5.0,>=4.0.0a3 in /home/san/.local/lib/python3.10/site-packages (from aiohttp->datasets) (4.0.2)\n",
            "Requirement already satisfied: attrs>=17.3.0 in /home/san/.local/lib/python3.10/site-packages (from aiohttp->datasets) (23.1.0)\n",
            "Requirement already satisfied: multidict<7.0,>=4.5 in /home/san/.local/lib/python3.10/site-packages (from aiohttp->datasets) (6.0.4)\n",
            "Requirement already satisfied: frozenlist>=1.1.1 in /home/san/.local/lib/python3.10/site-packages (from aiohttp->datasets) (1.4.0)\n",
            "Requirement already satisfied: aiosignal>=1.1.2 in /home/san/.local/lib/python3.10/site-packages (from aiohttp->datasets) (1.3.1)\n",
            "Requirement already satisfied: yarl<2.0,>=1.0 in /home/san/.local/lib/python3.10/site-packages (from aiohttp->datasets) (1.9.2)\n",
            "Requirement already satisfied: typing-extensions>=3.7.4.3 in /home/san/.local/lib/python3.10/site-packages (from huggingface-hub<1.0.0,>=0.11.0->datasets) (4.5.0)\n",
            "Requirement already satisfied: certifi>=2017.4.17 in /usr/lib/python3/dist-packages (from requests>=2.19.0->datasets) (2020.6.20)\n",
            "Requirement already satisfied: urllib3<3,>=1.21.1 in /usr/lib/python3/dist-packages (from requests>=2.19.0->datasets) (1.26.5)\n",
            "Requirement already satisfied: idna<4,>=2.5 in /usr/lib/python3/dist-packages (from requests>=2.19.0->datasets) (3.3)\n",
            "Requirement already satisfied: pytz>=2020.1 in /usr/lib/python3/dist-packages (from pandas->datasets) (2022.1)\n",
            "Requirement already satisfied: tzdata>=2022.1 in /home/san/.local/lib/python3.10/site-packages (from pandas->datasets) (2023.3)\n",
            "Requirement already satisfied: python-dateutil>=2.8.2 in /home/san/.local/lib/python3.10/site-packages (from pandas->datasets) (2.8.2)\n",
            "Requirement already satisfied: six>=1.5 in /usr/lib/python3/dist-packages (from python-dateutil>=2.8.2->pandas->datasets) (1.16.0)\n",
            "Note: you may need to restart the kernel to use updated packages.\n"
          ]
        }
      ],
      "source": [
        "%pip install datasets evaluate transformers[sentencepiece]"
      ]
    },
    {
      "cell_type": "markdown",
      "metadata": {},
      "source": [
        "## Simplest implemetation of Sentiment Analysis"
      ]
    },
    {
      "cell_type": "code",
      "execution_count": 2,
      "metadata": {
        "id": "hC3hCUjyGV_t",
        "outputId": "57253ec6-4d93-43e6-f72a-1e2b4cf0eddc"
      },
      "outputs": [
        {
          "name": "stderr",
          "output_type": "stream",
          "text": [
            "2023-07-23 08:54:30.023842: W tensorflow/compiler/tf2tensorrt/utils/py_utils.cc:38] TF-TRT Warning: Could not find TensorRT\n"
          ]
        },
        {
          "data": {
            "text/html": [
              "<div>\n",
              "<style scoped>\n",
              "    .dataframe tbody tr th:only-of-type {\n",
              "        vertical-align: middle;\n",
              "    }\n",
              "\n",
              "    .dataframe tbody tr th {\n",
              "        vertical-align: top;\n",
              "    }\n",
              "\n",
              "    .dataframe thead th {\n",
              "        text-align: right;\n",
              "    }\n",
              "</style>\n",
              "<table border=\"1\" class=\"dataframe\">\n",
              "  <thead>\n",
              "    <tr style=\"text-align: right;\">\n",
              "      <th></th>\n",
              "      <th>label</th>\n",
              "      <th>score</th>\n",
              "    </tr>\n",
              "  </thead>\n",
              "  <tbody>\n",
              "    <tr>\n",
              "      <th>0</th>\n",
              "      <td>POSITIVE</td>\n",
              "      <td>0.959805</td>\n",
              "    </tr>\n",
              "    <tr>\n",
              "      <th>1</th>\n",
              "      <td>NEGATIVE</td>\n",
              "      <td>0.997773</td>\n",
              "    </tr>\n",
              "  </tbody>\n",
              "</table>\n",
              "</div>"
            ],
            "text/plain": [
              "      label     score\n",
              "0  POSITIVE  0.959805\n",
              "1  NEGATIVE  0.997773"
            ]
          },
          "execution_count": 2,
          "metadata": {},
          "output_type": "execute_result"
        }
      ],
      "source": [
        "from transformers import pipeline\n",
        "import pandas as pd\n",
        "classifier = pipeline(\"sentiment-analysis\", model=\"distilbert-base-uncased-finetuned-sst-2-english\")\n",
        "out=classifier(\n",
        "    [\n",
        "            \"I've been waiting for a HuggingFace course my whole life.\",\n",
        "    \"I hate this so much so that life can be much easier without your constant interruptions!\",\n",
        "]\n",
        ")\n",
        "pd.DataFrame(out)"
      ]
    },
    {
      "cell_type": "markdown",
      "metadata": {},
      "source": [
        "## Load tokenizer"
      ]
    },
    {
      "cell_type": "code",
      "execution_count": 3,
      "metadata": {
        "id": "pIba_ZQPGV_v"
      },
      "outputs": [],
      "source": [
        "from transformers import AutoTokenizer\n",
        "\n",
        "checkpoint = \"distilbert-base-uncased-finetuned-sst-2-english\"\n",
        "tokenizer = AutoTokenizer.from_pretrained(checkpoint)"
      ]
    },
    {
      "cell_type": "markdown",
      "metadata": {},
      "source": [
        "## Study output of tokenizers and attention mask they generate- Modify the sentences and try and see output of the Tokenizer"
      ]
    },
    {
      "cell_type": "code",
      "execution_count": 4,
      "metadata": {
        "id": "5WSdXk2vGV_x",
        "outputId": "3728d74e-2323-458a-ee31-5350ca8f2b1a"
      },
      "outputs": [
        {
          "name": "stdout",
          "output_type": "stream",
          "text": [
            "20\n"
          ]
        },
        {
          "data": {
            "text/html": [
              "<div>\n",
              "<style scoped>\n",
              "    .dataframe tbody tr th:only-of-type {\n",
              "        vertical-align: middle;\n",
              "    }\n",
              "\n",
              "    .dataframe tbody tr th {\n",
              "        vertical-align: top;\n",
              "    }\n",
              "\n",
              "    .dataframe thead th {\n",
              "        text-align: right;\n",
              "    }\n",
              "</style>\n",
              "<table border=\"1\" class=\"dataframe\">\n",
              "  <thead>\n",
              "    <tr style=\"text-align: right;\">\n",
              "      <th></th>\n",
              "      <th>Variable</th>\n",
              "      <th>1</th>\n",
              "      <th>2</th>\n",
              "      <th>3</th>\n",
              "      <th>4</th>\n",
              "      <th>5</th>\n",
              "      <th>6</th>\n",
              "      <th>7</th>\n",
              "      <th>8</th>\n",
              "      <th>9</th>\n",
              "      <th>...</th>\n",
              "      <th>11</th>\n",
              "      <th>12</th>\n",
              "      <th>13</th>\n",
              "      <th>14</th>\n",
              "      <th>15</th>\n",
              "      <th>16</th>\n",
              "      <th>17</th>\n",
              "      <th>18</th>\n",
              "      <th>19</th>\n",
              "      <th>20</th>\n",
              "    </tr>\n",
              "  </thead>\n",
              "  <tbody>\n",
              "    <tr>\n",
              "      <th>0</th>\n",
              "      <td>Tokenized ID A</td>\n",
              "      <td>102</td>\n",
              "      <td>1046</td>\n",
              "      <td>1006</td>\n",
              "      <td>2311</td>\n",
              "      <td>2043</td>\n",
              "      <td>3404</td>\n",
              "      <td>2006</td>\n",
              "      <td>1038</td>\n",
              "      <td>17663</td>\n",
              "      <td>...</td>\n",
              "      <td>2608</td>\n",
              "      <td>2027</td>\n",
              "      <td>2879</td>\n",
              "      <td>2167</td>\n",
              "      <td>1013</td>\n",
              "      <td>103</td>\n",
              "      <td>1</td>\n",
              "      <td>1</td>\n",
              "      <td>1</td>\n",
              "      <td>1</td>\n",
              "    </tr>\n",
              "    <tr>\n",
              "      <th>1</th>\n",
              "      <td>Tokenized ID B</td>\n",
              "      <td>102</td>\n",
              "      <td>1046</td>\n",
              "      <td>5224</td>\n",
              "      <td>2024</td>\n",
              "      <td>2062</td>\n",
              "      <td>2173</td>\n",
              "      <td>2062</td>\n",
              "      <td>2009</td>\n",
              "      <td>2167</td>\n",
              "      <td>...</td>\n",
              "      <td>2023</td>\n",
              "      <td>2173</td>\n",
              "      <td>6083</td>\n",
              "      <td>2303</td>\n",
              "      <td>2116</td>\n",
              "      <td>5378</td>\n",
              "      <td>24192</td>\n",
              "      <td>2016</td>\n",
              "      <td>1000</td>\n",
              "      <td>103</td>\n",
              "    </tr>\n",
              "    <tr>\n",
              "      <th>2</th>\n",
              "      <td>Attention Mask A</td>\n",
              "      <td>1</td>\n",
              "      <td>1</td>\n",
              "      <td>1</td>\n",
              "      <td>1</td>\n",
              "      <td>1</td>\n",
              "      <td>1</td>\n",
              "      <td>1</td>\n",
              "      <td>1</td>\n",
              "      <td>1</td>\n",
              "      <td>...</td>\n",
              "      <td>1</td>\n",
              "      <td>1</td>\n",
              "      <td>1</td>\n",
              "      <td>1</td>\n",
              "      <td>1</td>\n",
              "      <td>1</td>\n",
              "      <td>0</td>\n",
              "      <td>0</td>\n",
              "      <td>0</td>\n",
              "      <td>0</td>\n",
              "    </tr>\n",
              "    <tr>\n",
              "      <th>3</th>\n",
              "      <td>Attention Mask B</td>\n",
              "      <td>1</td>\n",
              "      <td>1</td>\n",
              "      <td>1</td>\n",
              "      <td>1</td>\n",
              "      <td>1</td>\n",
              "      <td>1</td>\n",
              "      <td>1</td>\n",
              "      <td>1</td>\n",
              "      <td>1</td>\n",
              "      <td>...</td>\n",
              "      <td>1</td>\n",
              "      <td>1</td>\n",
              "      <td>1</td>\n",
              "      <td>1</td>\n",
              "      <td>1</td>\n",
              "      <td>1</td>\n",
              "      <td>1</td>\n",
              "      <td>1</td>\n",
              "      <td>1</td>\n",
              "      <td>1</td>\n",
              "    </tr>\n",
              "  </tbody>\n",
              "</table>\n",
              "<p>4 rows × 21 columns</p>\n",
              "</div>"
            ],
            "text/plain": [
              "           Variable    1     2     3     4     5     6     7     8      9  \\\n",
              "0    Tokenized ID A  102  1046  1006  2311  2043  3404  2006  1038  17663   \n",
              "1    Tokenized ID B  102  1046  5224  2024  2062  2173  2062  2009   2167   \n",
              "2  Attention Mask A    1     1     1     1     1     1     1     1      1   \n",
              "3  Attention Mask B    1     1     1     1     1     1     1     1      1   \n",
              "\n",
              "   ...    11    12    13    14    15    16     17    18    19   20  \n",
              "0  ...  2608  2027  2879  2167  1013   103      1     1     1    1  \n",
              "1  ...  2023  2173  6083  2303  2116  5378  24192  2016  1000  103  \n",
              "2  ...     1     1     1     1     1     1      0     0     0    0  \n",
              "3  ...     1     1     1     1     1     1      1     1     1    1  \n",
              "\n",
              "[4 rows x 21 columns]"
            ]
          },
          "execution_count": 4,
          "metadata": {},
          "output_type": "execute_result"
        }
      ],
      "source": [
        "\n",
        "import pandas as pd\n",
        "import numpy as np\n",
        "raw_inputs = [\n",
        "    \"I've been waiting for a HuggingFace course my whole life.\",\n",
        "    \"I hate this so much so that life can be much easier without your constant interruptions!\",\n",
        "]\n",
        "#x=raw_inputs[0].split()\n",
        "#print(len(x))\n",
        "inputs = tokenizer(raw_inputs, padding=True, truncation=True, return_tensors=\"np\")\n",
        "#print(inputs)\n",
        "i=0\n",
        "for i in inputs['input_ids']: \n",
        "    i+=1\n",
        "columns1=len(i)\n",
        "print(columns1)\n",
        "\n",
        "\n",
        "df = pd.DataFrame()\n",
        "l1=[i for i in range (1,columns1+1,1)]\n",
        "df[l1] = 0\n",
        "#np.random.randint(1000, size=(1,16))\n",
        "\n",
        "#df.append(l1)\n",
        "#[k*0 for k in range(16)]\n",
        "#df = pd.DataFrame(l1:[i for i in range(16)])\n",
        "#df.loc[0] = l1\n",
        "#.from_dict(inputs)\n",
        "\n",
        "for i in inputs['input_ids']:\n",
        "    #print(i.tolist())\n",
        "    df.loc[len(df.index)] = i\n",
        "    #df['input_ids']=i.tolist()\n",
        "    #df.insert(0,\"0\", i.tolist())\n",
        "\n",
        "for i in inputs['attention_mask']:\n",
        "    #print(i.tolist())\n",
        "    df.loc[len(df.index)] = i\n",
        "df.insert(0, \"Variable\", [\"Tokenized ID A\", \"Tokenized ID B\", \"Attention Mask A\", \"Attention Mask B\"])\n",
        " \n",
        "df"
      ]
    },
    {
      "cell_type": "markdown",
      "metadata": {},
      "source": [
        "##  Model heads: Making sense out of numbers\n",
        "\n",
        "The model heads take the high-dimensional vector of hidden states as input and project them onto a different dimension. This is output \"without giving it a HEAD\""
      ]
    },
    {
      "cell_type": "code",
      "execution_count": 5,
      "metadata": {
        "id": "vEmFnUOjGV_z"
      },
      "outputs": [
        {
          "name": "stdout",
          "output_type": "stream",
          "text": [
            "BaseModelOutput(last_hidden_state=tensor([[[-0.1798,  0.2333,  0.6321,  ..., -0.3017,  0.5008,  0.1481],\n",
            "         [ 0.2758,  0.6497,  0.3200,  ..., -0.0760,  0.5136,  0.1329],\n",
            "         [ 0.9046,  0.0985,  0.2950,  ...,  0.3352, -0.1407, -0.6464],\n",
            "         ...,\n",
            "         [-0.1878,  0.1431,  0.4369,  ..., -0.0848,  0.4192,  0.1138],\n",
            "         [-0.1030,  0.3895,  0.3599,  ..., -0.1300,  0.2746,  0.2901],\n",
            "         [-0.2132,  0.1402,  0.3943,  ..., -0.0903,  0.4004,  0.0896]],\n",
            "\n",
            "        [[-0.4200,  0.7560, -0.2024,  ..., -0.0954, -0.4335,  0.0514],\n",
            "         [ 0.0833,  1.0050, -0.2039,  ..., -0.2464, -0.2403,  0.4341],\n",
            "         [-0.0034,  0.8134, -0.1011,  ..., -0.1996, -0.5014,  0.4725],\n",
            "         ...,\n",
            "         [-0.3173,  0.6448, -0.1439,  ...,  0.1067, -0.3979, -0.3808],\n",
            "         [ 0.1764,  1.0865, -0.3391,  ..., -0.0470, -0.4173, -0.0399],\n",
            "         [ 0.2042,  0.3926, -0.1452,  ..., -0.1849, -0.5751, -0.1281]]],\n",
            "       grad_fn=<NativeLayerNormBackward0>), hidden_states=None, attentions=None)\n",
            "torch.Size([2, 20, 768])\n"
          ]
        }
      ],
      "source": [
        "from transformers import AutoModel\n",
        "import pandas as pd\n",
        "checkpoint = \"distilbert-base-uncased-finetuned-sst-2-english\"\n",
        "model = AutoModel.from_pretrained(checkpoint)\n",
        "\n",
        "\n",
        "\n",
        "raw_inputs = [\n",
        "    \"I've been waiting for a HuggingFace course my whole life.\",\n",
        "    \"I hate this so much so that life can be much easier without your constant interruptions!\",\n",
        "]\n",
        "\n",
        "inputs1 = tokenizer(raw_inputs, padding=True, truncation=True, return_tensors=\"pt\")\n",
        "outputs = model(**inputs1)\n",
        "print(outputs)\n",
        "print(outputs.last_hidden_state.shape)"
      ]
    },
    {
      "cell_type": "markdown",
      "metadata": {},
      "source": [
        "The model heads take the high-dimensional vector of hidden states as input and project them onto a different dimension. This is output \"AFTER giving it a HEAD\". Now if we look at the shape of our outputs, the dimensionality will be much lower: the model head takes as input the high-dimensional vectors we saw before, and outputs vectors containing two values (one per label)."
      ]
    },
    {
      "cell_type": "code",
      "execution_count": 6,
      "metadata": {
        "id": "EQivkKt5GV_1"
      },
      "outputs": [
        {
          "data": {
            "text/html": [
              "<div>\n",
              "<style scoped>\n",
              "    .dataframe tbody tr th:only-of-type {\n",
              "        vertical-align: middle;\n",
              "    }\n",
              "\n",
              "    .dataframe tbody tr th {\n",
              "        vertical-align: top;\n",
              "    }\n",
              "\n",
              "    .dataframe thead th {\n",
              "        text-align: right;\n",
              "    }\n",
              "</style>\n",
              "<table border=\"1\" class=\"dataframe\">\n",
              "  <thead>\n",
              "    <tr style=\"text-align: right;\">\n",
              "      <th></th>\n",
              "      <th>0</th>\n",
              "      <th>1</th>\n",
              "    </tr>\n",
              "  </thead>\n",
              "  <tbody>\n",
              "    <tr>\n",
              "      <th>0</th>\n",
              "      <td>-1.560701</td>\n",
              "      <td>1.612286</td>\n",
              "    </tr>\n",
              "    <tr>\n",
              "      <th>1</th>\n",
              "      <td>3.315524</td>\n",
              "      <td>-2.789292</td>\n",
              "    </tr>\n",
              "  </tbody>\n",
              "</table>\n",
              "</div>"
            ],
            "text/plain": [
              "          0         1\n",
              "0 -1.560701  1.612286\n",
              "1  3.315524 -2.789292"
            ]
          },
          "execution_count": 6,
          "metadata": {},
          "output_type": "execute_result"
        }
      ],
      "source": [
        "from transformers import AutoModelForSequenceClassification\n",
        "from transformers import AutoTokenizer\n",
        "\n",
        "checkpoint = \"distilbert-base-uncased-finetuned-sst-2-english\"\n",
        "tokenizer = AutoTokenizer.from_pretrained(checkpoint)\n",
        "\n",
        "checkpoint = \"distilbert-base-uncased-finetuned-sst-2-english\"\n",
        "model = AutoModelForSequenceClassification.from_pretrained(checkpoint)\n",
        "raw_inputs = [\n",
        "    \"I've been waiting for a HuggingFace course my whole life.\",\n",
        "    \"I hate this so much so that life can be much easier without your constant interruptions!\",\n",
        "]\n",
        "\n",
        "inputs1 = tokenizer(raw_inputs, padding=True, truncation=True, return_tensors=\"pt\")\n",
        "outputs = model(**inputs1)\n",
        "pd.DataFrame(outputs.logits.detach().numpy())"
      ]
    },
    {
      "cell_type": "markdown",
      "metadata": {},
      "source": [
        "These above are not probabilities but logits, the raw, unnormalized scores outputted by the last layer of the model. To be converted to probabilities, they need to go through a SoftMax layer (all 🤗 Transformers models output the logits, as the loss function for training will generally fuse the last activation function, such as SoftMax, with the actual loss function, such as cross entropy)"
      ]
    },
    {
      "cell_type": "markdown",
      "metadata": {},
      "source": [
        "Since we have just two sentences and two labels, the result we get from our model is of shape 2 x 2."
      ]
    },
    {
      "cell_type": "markdown",
      "metadata": {},
      "source": [
        "## Postprocessing the output\n",
        "\n",
        "The values we get as output from our model don’t necessarily make sense by themselves."
      ]
    },
    {
      "cell_type": "code",
      "execution_count": 7,
      "metadata": {
        "id": "yhpd82X-GV_4",
        "outputId": "5dae0970-a12a-40bc-f115-a54c73c6f278"
      },
      "outputs": [
        {
          "data": {
            "text/html": [
              "<div>\n",
              "<style scoped>\n",
              "    .dataframe tbody tr th:only-of-type {\n",
              "        vertical-align: middle;\n",
              "    }\n",
              "\n",
              "    .dataframe tbody tr th {\n",
              "        vertical-align: top;\n",
              "    }\n",
              "\n",
              "    .dataframe thead th {\n",
              "        text-align: right;\n",
              "    }\n",
              "</style>\n",
              "<table border=\"1\" class=\"dataframe\">\n",
              "  <thead>\n",
              "    <tr style=\"text-align: right;\">\n",
              "      <th></th>\n",
              "      <th>0</th>\n",
              "      <th>1</th>\n",
              "    </tr>\n",
              "  </thead>\n",
              "  <tbody>\n",
              "    <tr>\n",
              "      <th>0</th>\n",
              "      <td>-1.560701</td>\n",
              "      <td>1.612286</td>\n",
              "    </tr>\n",
              "    <tr>\n",
              "      <th>1</th>\n",
              "      <td>3.315524</td>\n",
              "      <td>-2.789292</td>\n",
              "    </tr>\n",
              "  </tbody>\n",
              "</table>\n",
              "</div>"
            ],
            "text/plain": [
              "          0         1\n",
              "0 -1.560701  1.612286\n",
              "1  3.315524 -2.789292"
            ]
          },
          "execution_count": 7,
          "metadata": {},
          "output_type": "execute_result"
        }
      ],
      "source": [
        "pd.DataFrame(outputs.logits.detach().numpy())"
      ]
    },
    {
      "cell_type": "markdown",
      "metadata": {},
      "source": [
        "Those are not probabilities but logits, the raw, unnormalized scores outputted by the last layer of the model. To be converted to probabilities, they need to go through a SoftMax layer (all 🤗 Transformers models output the logits, as the loss function for training will generally fuse the last activation function, such as SoftMax, with the actual loss function, such as cross entropy)"
      ]
    },
    {
      "cell_type": "code",
      "execution_count": 8,
      "metadata": {
        "id": "j0mCMkHKGV_5",
        "outputId": "4aca76d3-0315-492a-c40d-24a2da36f985"
      },
      "outputs": [
        {
          "data": {
            "text/html": [
              "<div>\n",
              "<style scoped>\n",
              "    .dataframe tbody tr th:only-of-type {\n",
              "        vertical-align: middle;\n",
              "    }\n",
              "\n",
              "    .dataframe tbody tr th {\n",
              "        vertical-align: top;\n",
              "    }\n",
              "\n",
              "    .dataframe thead th {\n",
              "        text-align: right;\n",
              "    }\n",
              "</style>\n",
              "<table border=\"1\" class=\"dataframe\">\n",
              "  <thead>\n",
              "    <tr style=\"text-align: right;\">\n",
              "      <th></th>\n",
              "      <th>0</th>\n",
              "      <th>1</th>\n",
              "    </tr>\n",
              "  </thead>\n",
              "  <tbody>\n",
              "    <tr>\n",
              "      <th>0</th>\n",
              "      <td>0.040195</td>\n",
              "      <td>0.959805</td>\n",
              "    </tr>\n",
              "    <tr>\n",
              "      <th>1</th>\n",
              "      <td>0.997773</td>\n",
              "      <td>0.002227</td>\n",
              "    </tr>\n",
              "  </tbody>\n",
              "</table>\n",
              "</div>"
            ],
            "text/plain": [
              "          0         1\n",
              "0  0.040195  0.959805\n",
              "1  0.997773  0.002227"
            ]
          },
          "execution_count": 8,
          "metadata": {},
          "output_type": "execute_result"
        }
      ],
      "source": [
        "import torch\n",
        "\n",
        "predictions = torch.nn.functional.softmax(outputs.logits, dim=-1)\n",
        "pd.DataFrame(predictions.detach().numpy())"
      ]
    },
    {
      "cell_type": "code",
      "execution_count": 9,
      "metadata": {
        "id": "G5UZFPWpGV_6",
        "outputId": "32cb84e1-0527-4bde-b272-ca2c2d762236"
      },
      "outputs": [
        {
          "data": {
            "text/html": [
              "<div>\n",
              "<style scoped>\n",
              "    .dataframe tbody tr th:only-of-type {\n",
              "        vertical-align: middle;\n",
              "    }\n",
              "\n",
              "    .dataframe tbody tr th {\n",
              "        vertical-align: top;\n",
              "    }\n",
              "\n",
              "    .dataframe thead th {\n",
              "        text-align: right;\n",
              "    }\n",
              "</style>\n",
              "<table border=\"1\" class=\"dataframe\">\n",
              "  <thead>\n",
              "    <tr style=\"text-align: right;\">\n",
              "      <th></th>\n",
              "      <th>0</th>\n",
              "      <th>1</th>\n",
              "    </tr>\n",
              "  </thead>\n",
              "  <tbody>\n",
              "    <tr>\n",
              "      <th>0</th>\n",
              "      <td>NEGATIVE</td>\n",
              "      <td>POSITIVE</td>\n",
              "    </tr>\n",
              "  </tbody>\n",
              "</table>\n",
              "</div>"
            ],
            "text/plain": [
              "          0         1\n",
              "0  NEGATIVE  POSITIVE"
            ]
          },
          "execution_count": 9,
          "metadata": {},
          "output_type": "execute_result"
        }
      ],
      "source": [
        "pd.DataFrame(model.config.id2label, index=[0])"
      ]
    },
    {
      "cell_type": "markdown",
      "metadata": {},
      "source": [
        "0 Column is NEGATIVE\n",
        "1 Column is POSITIVE\n",
        "For making better sense of this table of probability values p-values, i add..."
      ]
    },
    {
      "cell_type": "code",
      "execution_count": 10,
      "metadata": {},
      "outputs": [
        {
          "data": {
            "text/html": [
              "<div>\n",
              "<style scoped>\n",
              "    .dataframe tbody tr th:only-of-type {\n",
              "        vertical-align: middle;\n",
              "    }\n",
              "\n",
              "    .dataframe tbody tr th {\n",
              "        vertical-align: top;\n",
              "    }\n",
              "\n",
              "    .dataframe thead th {\n",
              "        text-align: right;\n",
              "    }\n",
              "</style>\n",
              "<table border=\"1\" class=\"dataframe\">\n",
              "  <thead>\n",
              "    <tr style=\"text-align: right;\">\n",
              "      <th></th>\n",
              "      <th>NEGATIVE</th>\n",
              "      <th>POSITITVE</th>\n",
              "    </tr>\n",
              "  </thead>\n",
              "  <tbody>\n",
              "    <tr>\n",
              "      <th>0</th>\n",
              "      <td>0.040195</td>\n",
              "      <td>0.959805</td>\n",
              "    </tr>\n",
              "    <tr>\n",
              "      <th>1</th>\n",
              "      <td>0.997773</td>\n",
              "      <td>0.002227</td>\n",
              "    </tr>\n",
              "  </tbody>\n",
              "</table>\n",
              "</div>"
            ],
            "text/plain": [
              "   NEGATIVE  POSITITVE\n",
              "0  0.040195   0.959805\n",
              "1  0.997773   0.002227"
            ]
          },
          "execution_count": 10,
          "metadata": {},
          "output_type": "execute_result"
        }
      ],
      "source": [
        "df=pd.DataFrame(predictions.detach().numpy())\n",
        "df.columns=[\"NEGATIVE\", \"POSITITVE\"]\n",
        "df"
      ]
    }
  ],
  "metadata": {
    "colab": {
      "name": "Behind the pipeline (PyTorch)",
      "provenance": []
    },
    "kernelspec": {
      "display_name": "Python 3",
      "name": "python3"
    },
    "language_info": {
      "codemirror_mode": {
        "name": "ipython",
        "version": 3
      },
      "file_extension": ".py",
      "mimetype": "text/x-python",
      "name": "python",
      "nbconvert_exporter": "python",
      "pygments_lexer": "ipython3",
      "version": "3.10.6"
    }
  },
  "nbformat": 4,
  "nbformat_minor": 0
}
